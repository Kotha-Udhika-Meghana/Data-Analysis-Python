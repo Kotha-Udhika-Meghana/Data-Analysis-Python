{
 "cells": [
  {
   "cell_type": "markdown",
   "metadata": {},
   "source": [
    "# Markdown\n",
    "## DAY 1\n",
    "### Welcome to Data Analysis Using Python \n",
    "#### Intro to Data and types of data"
   ]
  },
  {
   "cell_type": "markdown",
   "metadata": {},
   "source": [
    "## Bold and Italic\n",
    "**This is bold**  \n",
    "\n",
    "*This is Italic*  \n",
    "\n",
    "***Bold and Italic***  "
   ]
  },
  {
   "cell_type": "markdown",
   "metadata": {},
   "source": [
    "## Unordered list \n",
    "- Engineering colleges\n",
    "    + SRM University\n",
    "    - KLU\n",
    "    + VIT\n",
    "    * Amrutha\n",
    "+ Degree collages"
   ]
  },
  {
   "cell_type": "markdown",
   "metadata": {},
   "source": [
    "## Ordered list \n",
    "1. Numpy\n",
    "2. Pandas  \n",
    "        a. series  \n",
    "        b. dataframe  \n",
    "3. Matplotlib"
   ]
  },
  {
   "cell_type": "markdown",
   "metadata": {},
   "source": [
    "## Link\n",
    "[https://mail.google.com/mail/u/0/#inbox]\n",
    "## click here\n",
    "[click here](https://mail.google.com/mail/u/0/#inbox)"
   ]
  },
  {
   "cell_type": "markdown",
   "metadata": {},
   "source": [
    "## IMAGE\n",
    "![image](https://i.pinimg.com/originals/51/de/d8/51ded861e40a4785dc80eb37b95ad8f3.jpg)"
   ]
  },
  {
   "cell_type": "code",
   "execution_count": null,
   "metadata": {},
   "outputs": [],
   "source": []
  }
 ],
 "metadata": {
  "kernelspec": {
   "display_name": "Python 3",
   "language": "python",
   "name": "python3"
  },
  "language_info": {
   "codemirror_mode": {
    "name": "ipython",
    "version": 3
   },
   "file_extension": ".py",
   "mimetype": "text/x-python",
   "name": "python",
   "nbconvert_exporter": "python",
   "pygments_lexer": "ipython3",
   "version": "3.8.3"
  }
 },
 "nbformat": 4,
 "nbformat_minor": 4
}
